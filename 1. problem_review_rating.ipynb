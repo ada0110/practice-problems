{
 "cells": [
  {
   "cell_type": "markdown",
   "metadata": {},
   "source": [
    "## Setup"
   ]
  },
  {
   "cell_type": "markdown",
   "metadata": {},
   "source": [
    "### imports"
   ]
  },
  {
   "cell_type": "code",
   "execution_count": null,
   "metadata": {
    "execution": {
     "iopub.execute_input": "2022-02-06T11:45:20.018581Z",
     "iopub.status.busy": "2022-02-06T11:45:20.017583Z",
     "iopub.status.idle": "2022-02-06T11:45:20.026115Z",
     "shell.execute_reply": "2022-02-06T11:45:20.024589Z",
     "shell.execute_reply.started": "2022-02-06T11:45:20.018581Z"
    },
    "tags": []
   },
   "outputs": [],
   "source": [
    "import pandas as pd\n",
    "import matplotlib.pyplot as plt"
   ]
  },
  {
   "cell_type": "markdown",
   "metadata": {},
   "source": [
    "### load data"
   ]
  },
  {
   "cell_type": "code",
   "execution_count": 16,
   "metadata": {
    "execution": {
     "iopub.execute_input": "2022-02-06T12:20:37.316211Z",
     "iopub.status.busy": "2022-02-06T12:20:37.316211Z",
     "iopub.status.idle": "2022-02-06T12:20:37.813572Z",
     "shell.execute_reply": "2022-02-06T12:20:37.811613Z",
     "shell.execute_reply.started": "2022-02-06T12:20:37.316211Z"
    },
    "tags": []
   },
   "outputs": [
    {
     "data": {
      "text/html": [
       "<div>\n",
       "<style scoped>\n",
       "    .dataframe tbody tr th:only-of-type {\n",
       "        vertical-align: middle;\n",
       "    }\n",
       "\n",
       "    .dataframe tbody tr th {\n",
       "        vertical-align: top;\n",
       "    }\n",
       "\n",
       "    .dataframe thead th {\n",
       "        text-align: right;\n",
       "    }\n",
       "</style>\n",
       "<table border=\"1\" class=\"dataframe\">\n",
       "  <thead>\n",
       "    <tr style=\"text-align: right;\">\n",
       "      <th></th>\n",
       "      <th>movie</th>\n",
       "      <th>review_title</th>\n",
       "      <th>review</th>\n",
       "      <th>review_rating</th>\n",
       "    </tr>\n",
       "  </thead>\n",
       "  <tbody>\n",
       "    <tr>\n",
       "      <th>0</th>\n",
       "      <td>Braveheart</td>\n",
       "      <td>Gibson's best as director- melodramatic in bet...</td>\n",
       "      <td>It was too much to take in upon first trying t...</td>\n",
       "      <td>9/10</td>\n",
       "    </tr>\n",
       "    <tr>\n",
       "      <th>1</th>\n",
       "      <td>Left Behind</td>\n",
       "      <td>This is just the beginning......</td>\n",
       "      <td>Wow.......Nicolas Cage does his best Elvis as ...</td>\n",
       "      <td>4/10</td>\n",
       "    </tr>\n",
       "    <tr>\n",
       "      <th>2</th>\n",
       "      <td>Drishyam</td>\n",
       "      <td>One of most powerful movies ever</td>\n",
       "      <td>This is a true tour-de-force that has you grip...</td>\n",
       "      <td>10/10</td>\n",
       "    </tr>\n",
       "    <tr>\n",
       "      <th>3</th>\n",
       "      <td>Troll 2</td>\n",
       "      <td>\"There's no coffee here in Nilbog... it's the ...</td>\n",
       "      <td>Troll 2 starts as Michael (George Hardy) &amp; Dia...</td>\n",
       "      <td>5/10</td>\n",
       "    </tr>\n",
       "    <tr>\n",
       "      <th>4</th>\n",
       "      <td>Pad Man</td>\n",
       "      <td>Problem is good</td>\n",
       "      <td>After months of waiting for an enchanting movi...</td>\n",
       "      <td>10/10</td>\n",
       "    </tr>\n",
       "  </tbody>\n",
       "</table>\n",
       "</div>"
      ],
      "text/plain": [
       "         movie                                       review_title  \\\n",
       "0   Braveheart  Gibson's best as director- melodramatic in bet...   \n",
       "1  Left Behind                   This is just the beginning......   \n",
       "2     Drishyam                   One of most powerful movies ever   \n",
       "3      Troll 2  \"There's no coffee here in Nilbog... it's the ...   \n",
       "4      Pad Man                                    Problem is good   \n",
       "\n",
       "                                              review review_rating  \n",
       "0  It was too much to take in upon first trying t...          9/10  \n",
       "1  Wow.......Nicolas Cage does his best Elvis as ...          4/10  \n",
       "2  This is a true tour-de-force that has you grip...         10/10  \n",
       "3  Troll 2 starts as Michael (George Hardy) & Dia...          5/10  \n",
       "4  After months of waiting for an enchanting movi...         10/10  "
      ]
     },
     "execution_count": 16,
     "metadata": {},
     "output_type": "execute_result"
    }
   ],
   "source": [
    "df_reviews = pd.read_csv(\"https://raw.githubusercontent.com/ada0110/practice-problems/main/df_reviews_sample.csv\")\n",
    "df_reviews.head()"
   ]
  },
  {
   "cell_type": "markdown",
   "metadata": {
    "tags": []
   },
   "source": [
    "## Problem Statement\n",
    "This is a sample data containing movie reviews from IMDB (we will learn later how to build a dataset like this). Let's say we want to learn a model which can predict if a review is good, average or bad. To do this, first we need to define what we mean a good, average or bad review. For now, we can consider good as `rating>=8`, average as `6<=rating<=7` and bad as `rating<=5`. So, your task is to take this dataset and add a column named `review_class` having this information. \n",
    "\n",
    "Bonus1: Plot the distribution of count of each `review_class`.  \n",
    "Bonus2: Can you implement it in a manner such that users can pass their own definition of review classes for e.g. if they want to consider average as `5<=rating<=7` for 1 some task and average as `6<=rating<=8` for another. \n"
   ]
  },
  {
   "cell_type": "markdown",
   "metadata": {},
   "source": [
    "## Solution"
   ]
  },
  {
   "cell_type": "code",
   "execution_count": 23,
   "metadata": {
    "execution": {
     "iopub.execute_input": "2022-02-06T12:27:55.734964Z",
     "iopub.status.busy": "2022-02-06T12:27:55.733960Z",
     "iopub.status.idle": "2022-02-06T12:27:55.756960Z",
     "shell.execute_reply": "2022-02-06T12:27:55.755959Z",
     "shell.execute_reply.started": "2022-02-06T12:27:55.733960Z"
    },
    "tags": []
   },
   "outputs": [],
   "source": [
    "def rating_to_class(rating):\n",
    "    \"\"\"converts rating to class. for e.g. 7/10 -> 7 -> good\n",
    "    \"\"\"\n",
    "    rating = int(rating.split(\"/\")[0])\n",
    "    if rating >= 8:\n",
    "        return \"good\"\n",
    "    elif rating >= 6:\n",
    "        return \"average\"\n",
    "    return \"bad\""
   ]
  },
  {
   "cell_type": "code",
   "execution_count": 24,
   "metadata": {
    "execution": {
     "iopub.execute_input": "2022-02-06T12:27:59.651029Z",
     "iopub.status.busy": "2022-02-06T12:27:59.651029Z",
     "iopub.status.idle": "2022-02-06T12:27:59.684996Z",
     "shell.execute_reply": "2022-02-06T12:27:59.681994Z",
     "shell.execute_reply.started": "2022-02-06T12:27:59.651029Z"
    },
    "tags": []
   },
   "outputs": [
    {
     "data": {
      "text/html": [
       "<div>\n",
       "<style scoped>\n",
       "    .dataframe tbody tr th:only-of-type {\n",
       "        vertical-align: middle;\n",
       "    }\n",
       "\n",
       "    .dataframe tbody tr th {\n",
       "        vertical-align: top;\n",
       "    }\n",
       "\n",
       "    .dataframe thead th {\n",
       "        text-align: right;\n",
       "    }\n",
       "</style>\n",
       "<table border=\"1\" class=\"dataframe\">\n",
       "  <thead>\n",
       "    <tr style=\"text-align: right;\">\n",
       "      <th></th>\n",
       "      <th>movie</th>\n",
       "      <th>review_title</th>\n",
       "      <th>review</th>\n",
       "      <th>review_rating</th>\n",
       "      <th>review_class</th>\n",
       "    </tr>\n",
       "  </thead>\n",
       "  <tbody>\n",
       "    <tr>\n",
       "      <th>0</th>\n",
       "      <td>Braveheart</td>\n",
       "      <td>Gibson's best as director- melodramatic in bet...</td>\n",
       "      <td>It was too much to take in upon first trying t...</td>\n",
       "      <td>9/10</td>\n",
       "      <td>good</td>\n",
       "    </tr>\n",
       "    <tr>\n",
       "      <th>1</th>\n",
       "      <td>Left Behind</td>\n",
       "      <td>This is just the beginning......</td>\n",
       "      <td>Wow.......Nicolas Cage does his best Elvis as ...</td>\n",
       "      <td>4/10</td>\n",
       "      <td>bad</td>\n",
       "    </tr>\n",
       "    <tr>\n",
       "      <th>2</th>\n",
       "      <td>Drishyam</td>\n",
       "      <td>One of most powerful movies ever</td>\n",
       "      <td>This is a true tour-de-force that has you grip...</td>\n",
       "      <td>10/10</td>\n",
       "      <td>good</td>\n",
       "    </tr>\n",
       "    <tr>\n",
       "      <th>3</th>\n",
       "      <td>Troll 2</td>\n",
       "      <td>\"There's no coffee here in Nilbog... it's the ...</td>\n",
       "      <td>Troll 2 starts as Michael (George Hardy) &amp; Dia...</td>\n",
       "      <td>5/10</td>\n",
       "      <td>bad</td>\n",
       "    </tr>\n",
       "    <tr>\n",
       "      <th>4</th>\n",
       "      <td>Pad Man</td>\n",
       "      <td>Problem is good</td>\n",
       "      <td>After months of waiting for an enchanting movi...</td>\n",
       "      <td>10/10</td>\n",
       "      <td>good</td>\n",
       "    </tr>\n",
       "  </tbody>\n",
       "</table>\n",
       "</div>"
      ],
      "text/plain": [
       "         movie                                       review_title  \\\n",
       "0   Braveheart  Gibson's best as director- melodramatic in bet...   \n",
       "1  Left Behind                   This is just the beginning......   \n",
       "2     Drishyam                   One of most powerful movies ever   \n",
       "3      Troll 2  \"There's no coffee here in Nilbog... it's the ...   \n",
       "4      Pad Man                                    Problem is good   \n",
       "\n",
       "                                              review review_rating  \\\n",
       "0  It was too much to take in upon first trying t...          9/10   \n",
       "1  Wow.......Nicolas Cage does his best Elvis as ...          4/10   \n",
       "2  This is a true tour-de-force that has you grip...         10/10   \n",
       "3  Troll 2 starts as Michael (George Hardy) & Dia...          5/10   \n",
       "4  After months of waiting for an enchanting movi...         10/10   \n",
       "\n",
       "  review_class  \n",
       "0         good  \n",
       "1          bad  \n",
       "2         good  \n",
       "3          bad  \n",
       "4         good  "
      ]
     },
     "execution_count": 24,
     "metadata": {},
     "output_type": "execute_result"
    }
   ],
   "source": [
    "df_reviews[\"review_class\"] = df_reviews.review_rating.apply(lambda x: rating_to_class(x))\n",
    "df_reviews.head()"
   ]
  },
  {
   "cell_type": "markdown",
   "metadata": {},
   "source": [
    "### bonus 1"
   ]
  },
  {
   "cell_type": "code",
   "execution_count": 25,
   "metadata": {
    "execution": {
     "iopub.execute_input": "2022-02-06T12:28:07.684518Z",
     "iopub.status.busy": "2022-02-06T12:28:07.683522Z",
     "iopub.status.idle": "2022-02-06T12:28:08.006037Z",
     "shell.execute_reply": "2022-02-06T12:28:08.003032Z",
     "shell.execute_reply.started": "2022-02-06T12:28:07.683522Z"
    },
    "tags": []
   },
   "outputs": [
    {
     "data": {
      "text/plain": [
       "<matplotlib.axes._subplots.AxesSubplot at 0x232dc021d30>"
      ]
     },
     "execution_count": 25,
     "metadata": {},
     "output_type": "execute_result"
    },
    {
     "data": {
      "image/png": "[encoded data removed]",
      "text/plain": [
       "<Figure size 432x288 with 1 Axes>"
      ]
     },
     "metadata": {
      "needs_background": "light"
     },
     "output_type": "display_data"
    }
   ],
   "source": [
    "# we can use conbination of pd.plot(kind=\"bar\") method on pd.value_counts() to plot the distribution of review class\n",
    "# use kind=\"barh\" for horizontal bars, for other options please check https://pandas.pydata.org/docs/reference/api/pandas.DataFrame.plot.html\n",
    "# to recall how value_counts() work please check problem (https://www.practiceprobs.com/problemsets/python-pandas/series/baby-names/)\n",
    "df_reviews.review_class.value_counts().plot(kind=\"bar\")"
   ]
  },
  {
   "cell_type": "markdown",
   "metadata": {},
   "source": [
    "### bonus 2"
   ]
  },
  {
   "cell_type": "code",
   "execution_count": 29,
   "metadata": {
    "execution": {
     "iopub.execute_input": "2022-02-06T12:35:32.048021Z",
     "iopub.status.busy": "2022-02-06T12:35:32.047507Z",
     "iopub.status.idle": "2022-02-06T12:35:32.095039Z",
     "shell.execute_reply": "2022-02-06T12:35:32.093035Z",
     "shell.execute_reply.started": "2022-02-06T12:35:32.048021Z"
    },
    "tags": []
   },
   "outputs": [
    {
     "data": {
      "text/html": [
       "<div>\n",
       "<style scoped>\n",
       "    .dataframe tbody tr th:only-of-type {\n",
       "        vertical-align: middle;\n",
       "    }\n",
       "\n",
       "    .dataframe tbody tr th {\n",
       "        vertical-align: top;\n",
       "    }\n",
       "\n",
       "    .dataframe thead th {\n",
       "        text-align: right;\n",
       "    }\n",
       "</style>\n",
       "<table border=\"1\" class=\"dataframe\">\n",
       "  <thead>\n",
       "    <tr style=\"text-align: right;\">\n",
       "      <th></th>\n",
       "      <th>movie</th>\n",
       "      <th>review_title</th>\n",
       "      <th>review</th>\n",
       "      <th>review_rating</th>\n",
       "      <th>review_class</th>\n",
       "      <th>review_class2</th>\n",
       "    </tr>\n",
       "  </thead>\n",
       "  <tbody>\n",
       "    <tr>\n",
       "      <th>0</th>\n",
       "      <td>Braveheart</td>\n",
       "      <td>Gibson's best as director- melodramatic in bet...</td>\n",
       "      <td>It was too much to take in upon first trying t...</td>\n",
       "      <td>9/10</td>\n",
       "      <td>good</td>\n",
       "      <td>good</td>\n",
       "    </tr>\n",
       "    <tr>\n",
       "      <th>1</th>\n",
       "      <td>Left Behind</td>\n",
       "      <td>This is just the beginning......</td>\n",
       "      <td>Wow.......Nicolas Cage does his best Elvis as ...</td>\n",
       "      <td>4/10</td>\n",
       "      <td>bad</td>\n",
       "      <td>bad</td>\n",
       "    </tr>\n",
       "    <tr>\n",
       "      <th>2</th>\n",
       "      <td>Drishyam</td>\n",
       "      <td>One of most powerful movies ever</td>\n",
       "      <td>This is a true tour-de-force that has you grip...</td>\n",
       "      <td>10/10</td>\n",
       "      <td>good</td>\n",
       "      <td>good</td>\n",
       "    </tr>\n",
       "    <tr>\n",
       "      <th>3</th>\n",
       "      <td>Troll 2</td>\n",
       "      <td>\"There's no coffee here in Nilbog... it's the ...</td>\n",
       "      <td>Troll 2 starts as Michael (George Hardy) &amp; Dia...</td>\n",
       "      <td>5/10</td>\n",
       "      <td>bad</td>\n",
       "      <td>bad</td>\n",
       "    </tr>\n",
       "    <tr>\n",
       "      <th>4</th>\n",
       "      <td>Pad Man</td>\n",
       "      <td>Problem is good</td>\n",
       "      <td>After months of waiting for an enchanting movi...</td>\n",
       "      <td>10/10</td>\n",
       "      <td>good</td>\n",
       "      <td>good</td>\n",
       "    </tr>\n",
       "  </tbody>\n",
       "</table>\n",
       "</div>"
      ],
      "text/plain": [
       "         movie                                       review_title  \\\n",
       "0   Braveheart  Gibson's best as director- melodramatic in bet...   \n",
       "1  Left Behind                   This is just the beginning......   \n",
       "2     Drishyam                   One of most powerful movies ever   \n",
       "3      Troll 2  \"There's no coffee here in Nilbog... it's the ...   \n",
       "4      Pad Man                                    Problem is good   \n",
       "\n",
       "                                              review review_rating  \\\n",
       "0  It was too much to take in upon first trying t...          9/10   \n",
       "1  Wow.......Nicolas Cage does his best Elvis as ...          4/10   \n",
       "2  This is a true tour-de-force that has you grip...         10/10   \n",
       "3  Troll 2 starts as Michael (George Hardy) & Dia...          5/10   \n",
       "4  After months of waiting for an enchanting movi...         10/10   \n",
       "\n",
       "  review_class review_class2  \n",
       "0         good          good  \n",
       "1          bad           bad  \n",
       "2         good          good  \n",
       "3          bad           bad  \n",
       "4         good          good  "
      ]
     },
     "execution_count": 29,
     "metadata": {},
     "output_type": "execute_result"
    }
   ],
   "source": [
    "# to allow users to define review_class, we can add an argument to rating_to_class() method\n",
    "\n",
    "def rating_to_class(rating, class_definition):\n",
    "    \"\"\"converts rating to class. for e.g. 7/10 -> 7 -> review_class\n",
    "    \"\"\"\n",
    "    rating = int(rating.split(\"/\")[0])\n",
    "    for review_class, rating_range in class_definition.items():\n",
    "        if rating in rating_range:\n",
    "            return review_class\n",
    "\n",
    "\n",
    "class_definition = {\n",
    "                    \"good\": range(8, 11), # we do 11 instead of 10 because range() returns range object from [start, end-1]\n",
    "                    \"average\": range(6, 8), \n",
    "                    \"bad\": range(1, 6),\n",
    "                   }\n",
    "\n",
    "df_reviews[\"review_class2\"] = df_reviews.review_rating.apply(lambda x: rating_to_class(x, class_definition))\n",
    "df_reviews.head()"
   ]
  },
  {
   "cell_type": "code",
   "execution_count": 30,
   "metadata": {
    "execution": {
     "iopub.execute_input": "2022-02-06T12:35:47.296683Z",
     "iopub.status.busy": "2022-02-06T12:35:47.295688Z",
     "iopub.status.idle": "2022-02-06T12:35:47.630684Z",
     "shell.execute_reply": "2022-02-06T12:35:47.629681Z",
     "shell.execute_reply.started": "2022-02-06T12:35:47.296683Z"
    },
    "tags": []
   },
   "outputs": [
    {
     "data": {
      "text/plain": [
       "<matplotlib.axes._subplots.AxesSubplot at 0x232dbf415f8>"
      ]
     },
     "execution_count": 30,
     "metadata": {},
     "output_type": "execute_result"
    },
    {
     "data": {
      "image/png": "[encoded data removed]",
      "text/plain": [
       "<Figure size 432x288 with 1 Axes>"
      ]
     },
     "metadata": {
      "needs_background": "light"
     },
     "output_type": "display_data"
    }
   ],
   "source": [
    "df_reviews.review_class2.value_counts().plot(kind=\"bar\")"
   ]
  },
  {
   "cell_type": "markdown",
   "metadata": {},
   "source": [
    "Note: In the above implementation, we left it upto users to make sure that their class_definition is valid i.e. if have a rating in two classes, the first matched review_class will be returned. "
   ]
  }
 ],
 "metadata": {
  "kernelspec": {
   "display_name": "Python 3",
   "language": "python",
   "name": "python3"
  },
  "language_info": {
   "codemirror_mode": {
    "name": "ipython",
    "version": 3
   },
   "file_extension": ".py",
   "mimetype": "text/x-python",
   "name": "python",
   "nbconvert_exporter": "python",
   "pygments_lexer": "ipython3",
   "version": "3.7.3"
  },
  "toc-autonumbering": false
 },
 "nbformat": 4,
 "nbformat_minor": 4
}
