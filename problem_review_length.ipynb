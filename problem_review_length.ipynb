{
 "cells": [
  {
   "cell_type": "markdown",
   "metadata": {},
   "source": [
    "## Setup"
   ]
  },
  {
   "cell_type": "code",
   "execution_count": 14,
   "metadata": {
    "execution": {
     "iopub.execute_input": "2022-02-06T13:00:06.094302Z",
     "iopub.status.busy": "2022-02-06T13:00:06.093311Z",
     "iopub.status.idle": "2022-02-06T13:00:06.106318Z",
     "shell.execute_reply": "2022-02-06T13:00:06.102309Z",
     "shell.execute_reply.started": "2022-02-06T13:00:06.094302Z"
    },
    "tags": []
   },
   "outputs": [],
   "source": [
    "import pandas as pd\n",
    "import matplotlib.pyplot as plt"
   ]
  },
  {
   "cell_type": "code",
   "execution_count": 65,
   "metadata": {
    "execution": {
     "iopub.execute_input": "2022-02-06T14:14:53.424077Z",
     "iopub.status.busy": "2022-02-06T14:14:53.424077Z",
     "iopub.status.idle": "2022-02-06T14:14:53.568830Z",
     "shell.execute_reply": "2022-02-06T14:14:53.567831Z",
     "shell.execute_reply.started": "2022-02-06T14:14:53.424077Z"
    },
    "tags": []
   },
   "outputs": [],
   "source": [
    "# load data\n",
    "df_reviews = pd.read_csv(\"https://raw.githubusercontent.com/ada0110/practice-problems/main/df_reviews_sample.csv\")"
   ]
  },
  {
   "cell_type": "markdown",
   "metadata": {},
   "source": [
    "## Problem Statement\n",
    "This is a sample data containing movie reviews from IMDB (we will learn later how to build a dataset like this).  Let's say we want to learn some ML model on this review data which can predict if a review is good, average or bad. In most ML models, it is required that we set the maximum length of review in terms of words or chars i.e. `max_sentence_length`. This allows the model to process multiple reviews at once in the form of a matrix `(num_reviews, max_sentence_length)`. So, after deciding the `max_sentence_length`, we pad or trim the reviews to make their length consistent.\n",
    "\n",
    "In this problem, your task is to analyze what is the average and median number of word in reviews.\n",
    "\n",
    "Bonus1: Plot the histogram distribution of review length.   \n",
    "Bonus2: Sometimes average and median is not sufficient and we want to know lengths at other percentiles to make a more informed decision. Thus also calculate 90th, 95th and 99th percentile number of word in reviews.\n",
    "\n"
   ]
  },
  {
   "cell_type": "code",
   "execution_count": 66,
   "metadata": {
    "execution": {
     "iopub.execute_input": "2022-02-06T14:15:00.451957Z",
     "iopub.status.busy": "2022-02-06T14:15:00.450952Z",
     "iopub.status.idle": "2022-02-06T14:15:00.479953Z",
     "shell.execute_reply": "2022-02-06T14:15:00.477954Z",
     "shell.execute_reply.started": "2022-02-06T14:15:00.451957Z"
    },
    "tags": []
   },
   "outputs": [
    {
     "data": {
      "text/html": [
       "<div>\n",
       "<style scoped>\n",
       "    .dataframe tbody tr th:only-of-type {\n",
       "        vertical-align: middle;\n",
       "    }\n",
       "\n",
       "    .dataframe tbody tr th {\n",
       "        vertical-align: top;\n",
       "    }\n",
       "\n",
       "    .dataframe thead th {\n",
       "        text-align: right;\n",
       "    }\n",
       "</style>\n",
       "<table border=\"1\" class=\"dataframe\">\n",
       "  <thead>\n",
       "    <tr style=\"text-align: right;\">\n",
       "      <th></th>\n",
       "      <th>movie</th>\n",
       "      <th>review</th>\n",
       "      <th>review_rating</th>\n",
       "    </tr>\n",
       "  </thead>\n",
       "  <tbody>\n",
       "    <tr>\n",
       "      <th>0</th>\n",
       "      <td>I Know Who Killed Me</td>\n",
       "      <td>I did not mind the movie, but I know who kille...</td>\n",
       "      <td>5/10</td>\n",
       "    </tr>\n",
       "    <tr>\n",
       "      <th>1</th>\n",
       "      <td>Dasvidaniya</td>\n",
       "      <td>Usually all of us make movie-watching decision...</td>\n",
       "      <td>10/10</td>\n",
       "    </tr>\n",
       "    <tr>\n",
       "      <th>2</th>\n",
       "      <td>The General</td>\n",
       "      <td>I would have eventually gotten around to watch...</td>\n",
       "      <td>7/10</td>\n",
       "    </tr>\n",
       "    <tr>\n",
       "      <th>3</th>\n",
       "      <td>Mandela</td>\n",
       "      <td>Outstanding Story and Screenplay. Kept at the ...</td>\n",
       "      <td>10/10</td>\n",
       "    </tr>\n",
       "    <tr>\n",
       "      <th>4</th>\n",
       "      <td>It's a Wonderful Life</td>\n",
       "      <td>I've always thought that the reason It's A Won...</td>\n",
       "      <td>10/10</td>\n",
       "    </tr>\n",
       "  </tbody>\n",
       "</table>\n",
       "</div>"
      ],
      "text/plain": [
       "                   movie                                             review  \\\n",
       "0   I Know Who Killed Me  I did not mind the movie, but I know who kille...   \n",
       "1            Dasvidaniya  Usually all of us make movie-watching decision...   \n",
       "2            The General  I would have eventually gotten around to watch...   \n",
       "3                Mandela  Outstanding Story and Screenplay. Kept at the ...   \n",
       "4  It's a Wonderful Life  I've always thought that the reason It's A Won...   \n",
       "\n",
       "  review_rating  \n",
       "0          5/10  \n",
       "1         10/10  \n",
       "2          7/10  \n",
       "3         10/10  \n",
       "4         10/10  "
      ]
     },
     "execution_count": 66,
     "metadata": {},
     "output_type": "execute_result"
    }
   ],
   "source": [
    "df_reviews.head()"
   ]
  },
  {
   "cell_type": "markdown",
   "metadata": {},
   "source": [
    "## Solution"
   ]
  },
  {
   "cell_type": "code",
   "execution_count": 67,
   "metadata": {
    "execution": {
     "iopub.execute_input": "2022-02-06T14:15:03.803261Z",
     "iopub.status.busy": "2022-02-06T14:15:03.802291Z",
     "iopub.status.idle": "2022-02-06T14:15:03.872894Z",
     "shell.execute_reply": "2022-02-06T14:15:03.870891Z",
     "shell.execute_reply.started": "2022-02-06T14:15:03.802291Z"
    },
    "tags": []
   },
   "outputs": [
    {
     "data": {
      "text/html": [
       "<div>\n",
       "<style scoped>\n",
       "    .dataframe tbody tr th:only-of-type {\n",
       "        vertical-align: middle;\n",
       "    }\n",
       "\n",
       "    .dataframe tbody tr th {\n",
       "        vertical-align: top;\n",
       "    }\n",
       "\n",
       "    .dataframe thead th {\n",
       "        text-align: right;\n",
       "    }\n",
       "</style>\n",
       "<table border=\"1\" class=\"dataframe\">\n",
       "  <thead>\n",
       "    <tr style=\"text-align: right;\">\n",
       "      <th></th>\n",
       "      <th>movie</th>\n",
       "      <th>review</th>\n",
       "      <th>review_rating</th>\n",
       "      <th>review_length</th>\n",
       "    </tr>\n",
       "  </thead>\n",
       "  <tbody>\n",
       "    <tr>\n",
       "      <th>0</th>\n",
       "      <td>I Know Who Killed Me</td>\n",
       "      <td>I did not mind the movie, but I know who kille...</td>\n",
       "      <td>5/10</td>\n",
       "      <td>123</td>\n",
       "    </tr>\n",
       "    <tr>\n",
       "      <th>1</th>\n",
       "      <td>Dasvidaniya</td>\n",
       "      <td>Usually all of us make movie-watching decision...</td>\n",
       "      <td>10/10</td>\n",
       "      <td>675</td>\n",
       "    </tr>\n",
       "    <tr>\n",
       "      <th>2</th>\n",
       "      <td>The General</td>\n",
       "      <td>I would have eventually gotten around to watch...</td>\n",
       "      <td>7/10</td>\n",
       "      <td>601</td>\n",
       "    </tr>\n",
       "    <tr>\n",
       "      <th>3</th>\n",
       "      <td>Mandela</td>\n",
       "      <td>Outstanding Story and Screenplay. Kept at the ...</td>\n",
       "      <td>10/10</td>\n",
       "      <td>34</td>\n",
       "    </tr>\n",
       "    <tr>\n",
       "      <th>4</th>\n",
       "      <td>It's a Wonderful Life</td>\n",
       "      <td>I've always thought that the reason It's A Won...</td>\n",
       "      <td>10/10</td>\n",
       "      <td>571</td>\n",
       "    </tr>\n",
       "  </tbody>\n",
       "</table>\n",
       "</div>"
      ],
      "text/plain": [
       "                   movie                                             review  \\\n",
       "0   I Know Who Killed Me  I did not mind the movie, but I know who kille...   \n",
       "1            Dasvidaniya  Usually all of us make movie-watching decision...   \n",
       "2            The General  I would have eventually gotten around to watch...   \n",
       "3                Mandela  Outstanding Story and Screenplay. Kept at the ...   \n",
       "4  It's a Wonderful Life  I've always thought that the reason It's A Won...   \n",
       "\n",
       "  review_rating  review_length  \n",
       "0          5/10            123  \n",
       "1         10/10            675  \n",
       "2          7/10            601  \n",
       "3         10/10             34  \n",
       "4         10/10            571  "
      ]
     },
     "execution_count": 67,
     "metadata": {},
     "output_type": "execute_result"
    }
   ],
   "source": [
    "# x.split() will give us list of words in review: [\"This\", \"is, \"a\", \"good\", \"movie\"]\n",
    "df_reviews[\"review_length\"] = df_reviews.review.apply(lambda x: len(x.split()))\n",
    "df_reviews.head()"
   ]
  },
  {
   "cell_type": "code",
   "execution_count": 68,
   "metadata": {
    "execution": {
     "iopub.execute_input": "2022-02-06T14:15:05.427569Z",
     "iopub.status.busy": "2022-02-06T14:15:05.426579Z",
     "iopub.status.idle": "2022-02-06T14:15:05.496602Z",
     "shell.execute_reply": "2022-02-06T14:15:05.494599Z",
     "shell.execute_reply.started": "2022-02-06T14:15:05.427569Z"
    },
    "tags": []
   },
   "outputs": [
    {
     "data": {
      "text/html": [
       "<div>\n",
       "<style scoped>\n",
       "    .dataframe tbody tr th:only-of-type {\n",
       "        vertical-align: middle;\n",
       "    }\n",
       "\n",
       "    .dataframe tbody tr th {\n",
       "        vertical-align: top;\n",
       "    }\n",
       "\n",
       "    .dataframe thead th {\n",
       "        text-align: right;\n",
       "    }\n",
       "</style>\n",
       "<table border=\"1\" class=\"dataframe\">\n",
       "  <thead>\n",
       "    <tr style=\"text-align: right;\">\n",
       "      <th></th>\n",
       "      <th>review_length</th>\n",
       "    </tr>\n",
       "  </thead>\n",
       "  <tbody>\n",
       "    <tr>\n",
       "      <th>mean</th>\n",
       "      <td>281.49</td>\n",
       "    </tr>\n",
       "    <tr>\n",
       "      <th>median</th>\n",
       "      <td>198.50</td>\n",
       "    </tr>\n",
       "  </tbody>\n",
       "</table>\n",
       "</div>"
      ],
      "text/plain": [
       "        review_length\n",
       "mean           281.49\n",
       "median         198.50"
      ]
     },
     "execution_count": 68,
     "metadata": {},
     "output_type": "execute_result"
    }
   ],
   "source": [
    "df_reviews.agg([\"mean\", \"median\"])"
   ]
  },
  {
   "cell_type": "markdown",
   "metadata": {},
   "source": [
    "If we want to process sentences in a different manner, like calculate length after removing `stop_words`, we can use a method to process the review and return length from it:  \n",
    "`df_reviews[\"review_length\"] = df_reviews.review.apply(lambda x: get_processed_sentence_length(x))`"
   ]
  },
  {
   "cell_type": "markdown",
   "metadata": {},
   "source": [
    "### bonus 1"
   ]
  },
  {
   "cell_type": "code",
   "execution_count": 69,
   "metadata": {
    "execution": {
     "iopub.execute_input": "2022-02-06T14:15:07.899336Z",
     "iopub.status.busy": "2022-02-06T14:15:07.899336Z",
     "iopub.status.idle": "2022-02-06T14:15:08.299174Z",
     "shell.execute_reply": "2022-02-06T14:15:08.297181Z",
     "shell.execute_reply.started": "2022-02-06T14:15:07.899336Z"
    },
    "tags": []
   },
   "outputs": [
    {
     "data": {
      "text/plain": [
       "<matplotlib.axes._subplots.AxesSubplot at 0x1b3381459b0>"
      ]
     },
     "execution_count": 69,
     "metadata": {},
     "output_type": "execute_result"
    },
    {
     "data": {
      "image/png": "[encoded data removed]",
      "text/plain": [
       "<Figure size 432x288 with 1 Axes>"
      ]
     },
     "metadata": {
      "needs_background": "light"
     },
     "output_type": "display_data"
    }
   ],
   "source": [
    "# we can use pd.plot(kind=\"hist\") to plot the distribution of review length\n",
    "# by default, it uses bins=10 \n",
    "df_reviews.review_length.hist()"
   ]
  },
  {
   "cell_type": "markdown",
   "metadata": {},
   "source": [
    "### bonus 2"
   ]
  },
  {
   "cell_type": "code",
   "execution_count": 70,
   "metadata": {
    "execution": {
     "iopub.execute_input": "2022-02-06T14:15:09.756746Z",
     "iopub.status.busy": "2022-02-06T14:15:09.756746Z",
     "iopub.status.idle": "2022-02-06T14:15:09.783267Z",
     "shell.execute_reply": "2022-02-06T14:15:09.781267Z",
     "shell.execute_reply.started": "2022-02-06T14:15:09.756746Z"
    },
    "tags": []
   },
   "outputs": [
    {
     "data": {
      "text/plain": [
       "0.50    198.50\n",
       "0.90    602.20\n",
       "0.95    768.75\n",
       "0.99    958.08\n",
       "Name: review_length, dtype: float64"
      ]
     },
     "execution_count": 70,
     "metadata": {},
     "output_type": "execute_result"
    }
   ],
   "source": [
    "# we can use quantile method to caluclate various k-th percentiles\n",
    "# as we can see, 50th percentile is same as the median calculated above\n",
    "df_reviews.review_length.quantile([0.5, .90, .95, 0.99])"
   ]
  },
  {
   "cell_type": "markdown",
   "metadata": {},
   "source": [
    "**Note:** Even though median review length is ~200 words, this number goes becomes significantly large (600 words) if want to cover 90% of reviews. It might be possible that on a larger dataset, we don't see this much variation.\n"
   ]
  }
 ],
 "metadata": {
  "kernelspec": {
   "display_name": "Python 3",
   "language": "python",
   "name": "python3"
  },
  "language_info": {
   "codemirror_mode": {
    "name": "ipython",
    "version": 3
   },
   "file_extension": ".py",
   "mimetype": "text/x-python",
   "name": "python",
   "nbconvert_exporter": "python",
   "pygments_lexer": "ipython3",
   "version": "3.7.3"
  }
 },
 "nbformat": 4,
 "nbformat_minor": 4
}
