{
 "cells": [
  {
   "cell_type": "markdown",
   "metadata": {},
   "source": [
    "## Setup"
   ]
  },
  {
   "cell_type": "code",
   "execution_count": null,
   "metadata": {
    "execution": {
     "iopub.execute_input": "2022-02-06T11:45:20.018581Z",
     "iopub.status.busy": "2022-02-06T11:45:20.017583Z",
     "iopub.status.idle": "2022-02-06T11:45:20.026115Z",
     "shell.execute_reply": "2022-02-06T11:45:20.024589Z",
     "shell.execute_reply.started": "2022-02-06T11:45:20.018581Z"
    },
    "tags": []
   },
   "outputs": [],
   "source": [
    "import pandas as pd\n",
    "import matplotlib.pyplot as plt"
   ]
  },
  {
   "cell_type": "code",
   "execution_count": 38,
   "metadata": {
    "execution": {
     "iopub.execute_input": "2022-02-06T14:14:32.724099Z",
     "iopub.status.busy": "2022-02-06T14:14:32.723101Z",
     "iopub.status.idle": "2022-02-06T14:14:32.948440Z",
     "shell.execute_reply": "2022-02-06T14:14:32.944472Z",
     "shell.execute_reply.started": "2022-02-06T14:14:32.724099Z"
    },
    "tags": []
   },
   "outputs": [],
   "source": [
    "# load data\n",
    "df_reviews = pd.read_csv(\"https://raw.githubusercontent.com/ada0110/practice-problems/main/df_reviews_sample.csv\")"
   ]
  },
  {
   "cell_type": "markdown",
   "metadata": {
    "tags": []
   },
   "source": [
    "## Problem Statement\n",
    "Following is a sample data containing movie reviews from IMDB. Let's say we want to learn a model which can predict if a review is good, average or bad. To do this, first we need to define what we mean a good, average or bad review. For now, we can consider good as `rating>=8`, average as `6<=rating<=7` and bad as `rating<=5`. So, your task is to take this dataset and add a column named `review_class` having this information. \n",
    "\n",
    "Bonus1: Plot the distribution of count of each `review_class`.  \n",
    "Bonus2: Can you implement it in a manner such that users can pass their own definition of review classes for e.g. if they want to consider average as `5<=rating<=7` in some task and average as `6<=rating<=8` in another. \n"
   ]
  },
  {
   "cell_type": "code",
   "execution_count": 39,
   "metadata": {
    "execution": {
     "iopub.execute_input": "2022-02-06T14:14:34.783212Z",
     "iopub.status.busy": "2022-02-06T14:14:34.783212Z",
     "iopub.status.idle": "2022-02-06T14:14:34.823174Z",
     "shell.execute_reply": "2022-02-06T14:14:34.821179Z",
     "shell.execute_reply.started": "2022-02-06T14:14:34.783212Z"
    },
    "tags": []
   },
   "outputs": [
    {
     "data": {
      "text/html": [
       "<div>\n",
       "<style scoped>\n",
       "    .dataframe tbody tr th:only-of-type {\n",
       "        vertical-align: middle;\n",
       "    }\n",
       "\n",
       "    .dataframe tbody tr th {\n",
       "        vertical-align: top;\n",
       "    }\n",
       "\n",
       "    .dataframe thead th {\n",
       "        text-align: right;\n",
       "    }\n",
       "</style>\n",
       "<table border=\"1\" class=\"dataframe\">\n",
       "  <thead>\n",
       "    <tr style=\"text-align: right;\">\n",
       "      <th></th>\n",
       "      <th>movie</th>\n",
       "      <th>review</th>\n",
       "      <th>review_rating</th>\n",
       "    </tr>\n",
       "  </thead>\n",
       "  <tbody>\n",
       "    <tr>\n",
       "      <th>0</th>\n",
       "      <td>I Know Who Killed Me</td>\n",
       "      <td>I did not mind the movie, but I know who kille...</td>\n",
       "      <td>5/10</td>\n",
       "    </tr>\n",
       "    <tr>\n",
       "      <th>1</th>\n",
       "      <td>Dasvidaniya</td>\n",
       "      <td>Usually all of us make movie-watching decision...</td>\n",
       "      <td>10/10</td>\n",
       "    </tr>\n",
       "    <tr>\n",
       "      <th>2</th>\n",
       "      <td>The General</td>\n",
       "      <td>I would have eventually gotten around to watch...</td>\n",
       "      <td>7/10</td>\n",
       "    </tr>\n",
       "    <tr>\n",
       "      <th>3</th>\n",
       "      <td>Mandela</td>\n",
       "      <td>Outstanding Story and Screenplay. Kept at the ...</td>\n",
       "      <td>10/10</td>\n",
       "    </tr>\n",
       "    <tr>\n",
       "      <th>4</th>\n",
       "      <td>It's a Wonderful Life</td>\n",
       "      <td>I've always thought that the reason It's A Won...</td>\n",
       "      <td>10/10</td>\n",
       "    </tr>\n",
       "  </tbody>\n",
       "</table>\n",
       "</div>"
      ],
      "text/plain": [
       "                   movie                                             review  \\\n",
       "0   I Know Who Killed Me  I did not mind the movie, but I know who kille...   \n",
       "1            Dasvidaniya  Usually all of us make movie-watching decision...   \n",
       "2            The General  I would have eventually gotten around to watch...   \n",
       "3                Mandela  Outstanding Story and Screenplay. Kept at the ...   \n",
       "4  It's a Wonderful Life  I've always thought that the reason It's A Won...   \n",
       "\n",
       "  review_rating  \n",
       "0          5/10  \n",
       "1         10/10  \n",
       "2          7/10  \n",
       "3         10/10  \n",
       "4         10/10  "
      ]
     },
     "execution_count": 39,
     "metadata": {},
     "output_type": "execute_result"
    }
   ],
   "source": [
    "df_reviews.head()"
   ]
  },
  {
   "cell_type": "markdown",
   "metadata": {},
   "source": [
    "## Solution"
   ]
  },
  {
   "cell_type": "code",
   "execution_count": 40,
   "metadata": {
    "execution": {
     "iopub.execute_input": "2022-02-06T14:14:39.292138Z",
     "iopub.status.busy": "2022-02-06T14:14:39.291136Z",
     "iopub.status.idle": "2022-02-06T14:14:39.315134Z",
     "shell.execute_reply": "2022-02-06T14:14:39.313131Z",
     "shell.execute_reply.started": "2022-02-06T14:14:39.292138Z"
    },
    "tags": []
   },
   "outputs": [],
   "source": [
    "def rating_to_class(rating):\n",
    "    \"\"\"converts rating to class. for e.g. 7/10 -> 7 -> good\n",
    "    \"\"\"\n",
    "    rating = int(rating.split(\"/\")[0])\n",
    "    if rating >= 8:\n",
    "        return \"good\"\n",
    "    elif rating >= 6:\n",
    "        return \"average\"\n",
    "    return \"bad\""
   ]
  },
  {
   "cell_type": "code",
   "execution_count": 41,
   "metadata": {
    "execution": {
     "iopub.execute_input": "2022-02-06T14:14:40.917250Z",
     "iopub.status.busy": "2022-02-06T14:14:40.916247Z",
     "iopub.status.idle": "2022-02-06T14:14:40.954249Z",
     "shell.execute_reply": "2022-02-06T14:14:40.952244Z",
     "shell.execute_reply.started": "2022-02-06T14:14:40.917250Z"
    },
    "tags": []
   },
   "outputs": [
    {
     "data": {
      "text/html": [
       "<div>\n",
       "<style scoped>\n",
       "    .dataframe tbody tr th:only-of-type {\n",
       "        vertical-align: middle;\n",
       "    }\n",
       "\n",
       "    .dataframe tbody tr th {\n",
       "        vertical-align: top;\n",
       "    }\n",
       "\n",
       "    .dataframe thead th {\n",
       "        text-align: right;\n",
       "    }\n",
       "</style>\n",
       "<table border=\"1\" class=\"dataframe\">\n",
       "  <thead>\n",
       "    <tr style=\"text-align: right;\">\n",
       "      <th></th>\n",
       "      <th>movie</th>\n",
       "      <th>review</th>\n",
       "      <th>review_rating</th>\n",
       "      <th>review_class</th>\n",
       "    </tr>\n",
       "  </thead>\n",
       "  <tbody>\n",
       "    <tr>\n",
       "      <th>0</th>\n",
       "      <td>I Know Who Killed Me</td>\n",
       "      <td>I did not mind the movie, but I know who kille...</td>\n",
       "      <td>5/10</td>\n",
       "      <td>bad</td>\n",
       "    </tr>\n",
       "    <tr>\n",
       "      <th>1</th>\n",
       "      <td>Dasvidaniya</td>\n",
       "      <td>Usually all of us make movie-watching decision...</td>\n",
       "      <td>10/10</td>\n",
       "      <td>good</td>\n",
       "    </tr>\n",
       "    <tr>\n",
       "      <th>2</th>\n",
       "      <td>The General</td>\n",
       "      <td>I would have eventually gotten around to watch...</td>\n",
       "      <td>7/10</td>\n",
       "      <td>average</td>\n",
       "    </tr>\n",
       "    <tr>\n",
       "      <th>3</th>\n",
       "      <td>Mandela</td>\n",
       "      <td>Outstanding Story and Screenplay. Kept at the ...</td>\n",
       "      <td>10/10</td>\n",
       "      <td>good</td>\n",
       "    </tr>\n",
       "    <tr>\n",
       "      <th>4</th>\n",
       "      <td>It's a Wonderful Life</td>\n",
       "      <td>I've always thought that the reason It's A Won...</td>\n",
       "      <td>10/10</td>\n",
       "      <td>good</td>\n",
       "    </tr>\n",
       "  </tbody>\n",
       "</table>\n",
       "</div>"
      ],
      "text/plain": [
       "                   movie                                             review  \\\n",
       "0   I Know Who Killed Me  I did not mind the movie, but I know who kille...   \n",
       "1            Dasvidaniya  Usually all of us make movie-watching decision...   \n",
       "2            The General  I would have eventually gotten around to watch...   \n",
       "3                Mandela  Outstanding Story and Screenplay. Kept at the ...   \n",
       "4  It's a Wonderful Life  I've always thought that the reason It's A Won...   \n",
       "\n",
       "  review_rating review_class  \n",
       "0          5/10          bad  \n",
       "1         10/10         good  \n",
       "2          7/10      average  \n",
       "3         10/10         good  \n",
       "4         10/10         good  "
      ]
     },
     "execution_count": 41,
     "metadata": {},
     "output_type": "execute_result"
    }
   ],
   "source": [
    "df_reviews[\"review_class\"] = df_reviews.review_rating.apply(lambda x: rating_to_class(x))\n",
    "df_reviews.head()"
   ]
  },
  {
   "cell_type": "markdown",
   "metadata": {},
   "source": [
    "### bonus 1"
   ]
  },
  {
   "cell_type": "code",
   "execution_count": 42,
   "metadata": {
    "execution": {
     "iopub.execute_input": "2022-02-06T14:14:43.291404Z",
     "iopub.status.busy": "2022-02-06T14:14:43.290401Z",
     "iopub.status.idle": "2022-02-06T14:14:43.502482Z",
     "shell.execute_reply": "2022-02-06T14:14:43.501537Z",
     "shell.execute_reply.started": "2022-02-06T14:14:43.291404Z"
    },
    "tags": []
   },
   "outputs": [
    {
     "data": {
      "text/plain": [
       "<matplotlib.axes._subplots.AxesSubplot at 0x232dcc404a8>"
      ]
     },
     "execution_count": 42,
     "metadata": {},
     "output_type": "execute_result"
    },
    {
     "data": {
      "image/png": "[encoded data removed]",
      "text/plain": [
       "<Figure size 432x288 with 1 Axes>"
      ]
     },
     "metadata": {
      "needs_background": "light"
     },
     "output_type": "display_data"
    }
   ],
   "source": [
    "# we can use combination of pd.plot(kind=\"bar\") method on pd.value_counts() to plot the distribution of review class\n",
    "# use kind=\"barh\" for horizontal bars\n",
    "df_reviews.review_class.value_counts().plot(kind=\"bar\")"
   ]
  },
  {
   "cell_type": "markdown",
   "metadata": {},
   "source": [
    "- to recall how `value_counts()` work, please check problem https://www.practiceprobs.com/problemsets/python-pandas/series/baby-names/  \n",
    "- `kind` parameter takes other options as well, please check https://pandas.pydata.org/docs/reference/api/pandas.DataFrame.plot.htm"
   ]
  },
  {
   "cell_type": "markdown",
   "metadata": {},
   "source": [
    "### bonus 2"
   ]
  },
  {
   "cell_type": "code",
   "execution_count": 43,
   "metadata": {
    "execution": {
     "iopub.execute_input": "2022-02-06T14:14:46.019638Z",
     "iopub.status.busy": "2022-02-06T14:14:46.019638Z",
     "iopub.status.idle": "2022-02-06T14:14:46.056634Z",
     "shell.execute_reply": "2022-02-06T14:14:46.054637Z",
     "shell.execute_reply.started": "2022-02-06T14:14:46.019638Z"
    },
    "tags": []
   },
   "outputs": [
    {
     "data": {
      "text/html": [
       "<div>\n",
       "<style scoped>\n",
       "    .dataframe tbody tr th:only-of-type {\n",
       "        vertical-align: middle;\n",
       "    }\n",
       "\n",
       "    .dataframe tbody tr th {\n",
       "        vertical-align: top;\n",
       "    }\n",
       "\n",
       "    .dataframe thead th {\n",
       "        text-align: right;\n",
       "    }\n",
       "</style>\n",
       "<table border=\"1\" class=\"dataframe\">\n",
       "  <thead>\n",
       "    <tr style=\"text-align: right;\">\n",
       "      <th></th>\n",
       "      <th>movie</th>\n",
       "      <th>review</th>\n",
       "      <th>review_rating</th>\n",
       "      <th>review_class</th>\n",
       "      <th>review_class2</th>\n",
       "    </tr>\n",
       "  </thead>\n",
       "  <tbody>\n",
       "    <tr>\n",
       "      <th>0</th>\n",
       "      <td>I Know Who Killed Me</td>\n",
       "      <td>I did not mind the movie, but I know who kille...</td>\n",
       "      <td>5/10</td>\n",
       "      <td>bad</td>\n",
       "      <td>bad</td>\n",
       "    </tr>\n",
       "    <tr>\n",
       "      <th>1</th>\n",
       "      <td>Dasvidaniya</td>\n",
       "      <td>Usually all of us make movie-watching decision...</td>\n",
       "      <td>10/10</td>\n",
       "      <td>good</td>\n",
       "      <td>good</td>\n",
       "    </tr>\n",
       "    <tr>\n",
       "      <th>2</th>\n",
       "      <td>The General</td>\n",
       "      <td>I would have eventually gotten around to watch...</td>\n",
       "      <td>7/10</td>\n",
       "      <td>average</td>\n",
       "      <td>average</td>\n",
       "    </tr>\n",
       "    <tr>\n",
       "      <th>3</th>\n",
       "      <td>Mandela</td>\n",
       "      <td>Outstanding Story and Screenplay. Kept at the ...</td>\n",
       "      <td>10/10</td>\n",
       "      <td>good</td>\n",
       "      <td>good</td>\n",
       "    </tr>\n",
       "    <tr>\n",
       "      <th>4</th>\n",
       "      <td>It's a Wonderful Life</td>\n",
       "      <td>I've always thought that the reason It's A Won...</td>\n",
       "      <td>10/10</td>\n",
       "      <td>good</td>\n",
       "      <td>good</td>\n",
       "    </tr>\n",
       "  </tbody>\n",
       "</table>\n",
       "</div>"
      ],
      "text/plain": [
       "                   movie                                             review  \\\n",
       "0   I Know Who Killed Me  I did not mind the movie, but I know who kille...   \n",
       "1            Dasvidaniya  Usually all of us make movie-watching decision...   \n",
       "2            The General  I would have eventually gotten around to watch...   \n",
       "3                Mandela  Outstanding Story and Screenplay. Kept at the ...   \n",
       "4  It's a Wonderful Life  I've always thought that the reason It's A Won...   \n",
       "\n",
       "  review_rating review_class review_class2  \n",
       "0          5/10          bad           bad  \n",
       "1         10/10         good          good  \n",
       "2          7/10      average       average  \n",
       "3         10/10         good          good  \n",
       "4         10/10         good          good  "
      ]
     },
     "execution_count": 43,
     "metadata": {},
     "output_type": "execute_result"
    }
   ],
   "source": [
    "# to allow users to define review_class, we can add an argument to rating_to_class() method\n",
    "\n",
    "def rating_to_class(rating, class_definition):\n",
    "    \"\"\"converts rating to class. for e.g. 7/10 -> 7 -> review_class\n",
    "    \"\"\"\n",
    "    rating = int(rating.split(\"/\")[0])\n",
    "    for review_class, rating_range in class_definition.items():\n",
    "        if rating in rating_range:\n",
    "            return review_class\n",
    "\n",
    "\n",
    "class_definition = {\n",
    "                    \"good\": range(8, 11), # we do 11 instead of 10 because range() returns range object from [start, end-1]\n",
    "                    \"average\": range(6, 8), \n",
    "                    \"bad\": range(1, 6),\n",
    "                   }\n",
    "\n",
    "df_reviews[\"review_class2\"] = df_reviews.review_rating.apply(lambda x: rating_to_class(x, class_definition))\n",
    "df_reviews.head()"
   ]
  },
  {
   "cell_type": "code",
   "execution_count": 44,
   "metadata": {
    "execution": {
     "iopub.execute_input": "2022-02-06T14:14:48.943394Z",
     "iopub.status.busy": "2022-02-06T14:14:48.942401Z",
     "iopub.status.idle": "2022-02-06T14:14:49.970717Z",
     "shell.execute_reply": "2022-02-06T14:14:49.968754Z",
     "shell.execute_reply.started": "2022-02-06T14:14:48.943394Z"
    },
    "tags": []
   },
   "outputs": [
    {
     "data": {
      "text/plain": [
       "<matplotlib.axes._subplots.AxesSubplot at 0x232dceb9dd8>"
      ]
     },
     "execution_count": 44,
     "metadata": {},
     "output_type": "execute_result"
    },
    {
     "data": {
      "image/png": "[encoded data removed]",
      "text/plain": [
       "<Figure size 432x288 with 1 Axes>"
      ]
     },
     "metadata": {
      "needs_background": "light"
     },
     "output_type": "display_data"
    }
   ],
   "source": [
    "df_reviews.review_class2.value_counts().plot(kind=\"bar\")"
   ]
  },
  {
   "cell_type": "markdown",
   "metadata": {},
   "source": [
    "**Note:** In the above implementation, we left it upto users to make sure that their class_definition is valid i.e. if have a rating in two classes, the first matched review_class will be returned. "
   ]
  }
 ],
 "metadata": {
  "kernelspec": {
   "display_name": "Python 3",
   "language": "python",
   "name": "python3"
  },
  "language_info": {
   "codemirror_mode": {
    "name": "ipython",
    "version": 3
   },
   "file_extension": ".py",
   "mimetype": "text/x-python",
   "name": "python",
   "nbconvert_exporter": "python",
   "pygments_lexer": "ipython3",
   "version": "3.7.3"
  },
  "toc-autonumbering": false
 },
 "nbformat": 4,
 "nbformat_minor": 4
}
